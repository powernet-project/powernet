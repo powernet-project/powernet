{
 "cells": [
  {
   "cell_type": "code",
   "execution_count": 1,
   "metadata": {},
   "outputs": [],
   "source": [
    "import datetime\n",
    "from xml.etree import ElementTree as ET\n",
    "import requests\n",
    "from requests.auth import HTTPDigestAuth\n",
    "import numpy as np\n",
    "import time\n",
    "import json"
   ]
  },
  {
   "cell_type": "code",
   "execution_count": 2,
   "metadata": {},
   "outputs": [],
   "source": [
    "# Most likely will need to add more key variables. Need to move two CT's from the 480 circuit to the 240V and then we can work only with one e-gauge\n",
    "\n",
    "# If power is negative it means it is consuming power from grid\n",
    "class EgaugeInterface():\n",
    "    \n",
    "    def __init__(self, url = None, username = None, password = None, t_sample = 5):\n",
    "        # Initializing credentials\n",
    "        self.url = url\n",
    "        self.username = username\n",
    "        self.password = password\n",
    "        \n",
    "        # Initializing parameters\n",
    "        self.t_sample = t_sample\n",
    "        self.keys = ['L1 Voltage', 'L2 Voltage', 'Power Circuit 1', 'Power Circuit 1*', 'Power Circuit 2',\n",
    "                'Power Circuit 2*', 'Power Circuit 1 neutral', 'Shed Power', 'Control Fan Power', 'Control Fan Power*', 'ts']\n",
    "        \n",
    "        \n",
    "    # Function to get and format e-gauge data\n",
    "    def get_egauge_data(self, request):\n",
    "        power_values = dict.fromkeys(self.keys, None)\n",
    "\n",
    "        root = ET.fromstring(request.text)\n",
    "        timestamp  = root.findtext(\"ts\")\n",
    "\n",
    "        for r in root.findall('r'):\n",
    "            for child in r:\n",
    "                if r.get('n') == 'L1 Voltage':\n",
    "                    power_values['L1 Voltage'] = (int(child.text))\n",
    "                elif r.get('n') == 'L2 Voltage':\n",
    "                    power_values['L2 Voltage'] = (int(child.text))\n",
    "                elif r.get('n') == 'Power Circuit 1':\n",
    "                    power_values['Power Circuit 1'] = (int(child.text))\n",
    "                elif r.get('n') == 'Power Circuit 1*':\n",
    "                    power_values['Power Circuit 1*'] = (int(child.text))\n",
    "                elif r.get('n') == 'Power Circuit 2':\n",
    "                    power_values['Power Circuit 2'] = (int(child.text))\n",
    "                elif r.get('n') == 'Power Circuit 2*':\n",
    "                    power_values['Power Circuit 2*'] = (int(child.text))\n",
    "                elif r.get('n') == 'Power Circuit 1 neutral':\n",
    "                    power_values['Power Circuit 1 neutral'] = (int(child.text))\n",
    "                elif r.get('n') == 'Shed Power':\n",
    "                    power_values['Shed Power'] = (int(child.text))\n",
    "                elif r.get('n') == 'Control Fan Power':\n",
    "                    power_values['Control Fan Power'] = (int(child.text))\n",
    "                elif r.get('n') == 'Control Fan Power*':\n",
    "                    power_values['Control Fan Power*'] = (int(child.text))\n",
    "\n",
    "        power_values['ts'] = int(root.findtext(\"ts\"))\n",
    "        return power_values\n",
    "\n",
    "    \n",
    "    # Function to process data from e-gauge and convert to useful power values\n",
    "    def processing_egauge_data(self):\n",
    "        power_values = dict.fromkeys(self.keys, None)\n",
    "        try:\n",
    "            resp = requests.get(self.url, auth=HTTPDigestAuth(self.username, self.password))\n",
    "            data_ini = self.get_egauge_data(resp)\n",
    "\n",
    "        except Exception as exc:\n",
    "            print(exc)\n",
    "            return json.dumps(power_values)\n",
    "\n",
    "        time.sleep(self.t_sample)\n",
    "\n",
    "        try:\n",
    "            resp = requests.get(self.url, auth=HTTPDigestAuth(self.username, self.password))\n",
    "            data_end = self.get_egauge_data(resp)\n",
    "\n",
    "        except Exception as exc:\n",
    "            print(exc)\n",
    "            return json.dumps(power_values)\n",
    "\n",
    "        power_values['ts'] = datetime.datetime.fromtimestamp(int(data_end['ts'])).strftime('%Y-%m-%d %H:%M:%S')\n",
    "        ts_delta = data_end['ts'] - data_ini['ts']\n",
    "        power_values['L1 Voltage'] = ((data_end['L1 Voltage'] - data_ini['L1 Voltage'])/ts_delta)/1000\n",
    "        power_values['L2 Voltage'] = ((data_end['L2 Voltage'] - data_ini['L2 Voltage'])/ts_delta)/1000\n",
    "        power_values['Power Circuit 1'] = (data_end['Power Circuit 1'] - data_ini['Power Circuit 1'])/ts_delta\n",
    "        power_values['Power Circuit 1*'] = (data_end['Power Circuit 1*'] - data_ini['Power Circuit 1*'])/ts_delta\n",
    "        power_values['Power Circuit 2'] = (data_end['Power Circuit 2'] - data_ini['Power Circuit 2'])/ts_delta\n",
    "        power_values['Power Circuit 2*'] = (data_end['Power Circuit 2*'] - data_ini['Power Circuit 2*'])/ts_delta\n",
    "        power_values['Power Circuit 1 neutral'] = (data_end['Power Circuit 1 neutral'] - data_ini['Power Circuit 1 neutral'])/ts_delta\n",
    "        power_values['Shed Power'] = (data_end['Shed Power'] - data_ini['Shed Power'])/ts_delta\n",
    "        power_values['Control Fan Power'] = (data_end['Control Fan Power'] - data_ini['Control Fan Power'])/ts_delta\n",
    "        power_values['Control Fan Power*'] = (data_end['Control Fan Power*'] - data_ini['Control Fan Power*'])/ts_delta\n",
    "\n",
    "        json_dict = json.dumps(power_values)\n",
    "        print('Data Dict: ', json_dict)\n",
    "    #     return json_dict\n",
    "        return power_values"
   ]
  },
  {
   "cell_type": "code",
   "execution_count": 13,
   "metadata": {},
   "outputs": [
    {
     "name": "stdout",
     "output_type": "stream",
     "text": [
      "Data Dict:  {\"L1 Voltage\": 238.03733333333335, \"L2 Voltage\": 239.03333333333333, \"Power Circuit 1\": 511.6666666666667, \"Power Circuit 1*\": 1105.0, \"Power Circuit 2\": 374.8333333333333, \"Power Circuit 2*\": 920.6666666666666, \"Power Circuit 1 neutral\": 289.5, \"Shed Power\": 680.3333333333334, \"Control Fan Power\": 19400.166666666668, \"Control Fan Power*\": 28611.5, \"ts\": \"2019-05-23 14:16:09\"}\n"
     ]
    }
   ],
   "source": [
    "# Testing\n",
    "# define user, password and url\n",
    "\n",
    "# user = \n",
    "# password = \n",
    "# url = \n",
    "\n",
    "power = EgaugeInterface(url=url, username=user, password=password).processing_egauge_data()"
   ]
  },
  {
   "cell_type": "code",
   "execution_count": 14,
   "metadata": {},
   "outputs": [
    {
     "data": {
      "text/plain": [
       "{'L1 Voltage': 238.03733333333335,\n",
       " 'L2 Voltage': 239.03333333333333,\n",
       " 'Power Circuit 1': 511.6666666666667,\n",
       " 'Power Circuit 1*': 1105.0,\n",
       " 'Power Circuit 2': 374.8333333333333,\n",
       " 'Power Circuit 2*': 920.6666666666666,\n",
       " 'Power Circuit 1 neutral': 289.5,\n",
       " 'Shed Power': 680.3333333333334,\n",
       " 'Control Fan Power': 19400.166666666668,\n",
       " 'Control Fan Power*': 28611.5,\n",
       " 'ts': '2019-05-23 14:16:09'}"
      ]
     },
     "execution_count": 14,
     "metadata": {},
     "output_type": "execute_result"
    }
   ],
   "source": [
    "power"
   ]
  },
  {
   "cell_type": "code",
   "execution_count": 8,
   "metadata": {},
   "outputs": [
    {
     "data": {
      "text/plain": [
       "{'L1 Voltage': 237.434,\n",
       " 'L2 Voltage': 238.28816666666665,\n",
       " 'Power Circuit 1': 208.5,\n",
       " 'Power Circuit 1*': 603.3333333333334,\n",
       " 'Power Circuit 2': 135.33333333333334,\n",
       " 'Power Circuit 2*': 426.8333333333333,\n",
       " 'Power Circuit 1 neutral': 77.33333333333333,\n",
       " 'Shed Power': 599.1666666666666,\n",
       " 'Control Fan Power': 19304.166666666668,\n",
       " 'Control Fan Power*': 28570.0,\n",
       " 'ts': '2019-05-23 14:07:15'}"
      ]
     },
     "execution_count": 8,
     "metadata": {},
     "output_type": "execute_result"
    }
   ],
   "source": [
    "power"
   ]
  },
  {
   "cell_type": "code",
   "execution_count": null,
   "metadata": {},
   "outputs": [],
   "source": []
  }
 ],
 "metadata": {
  "kernelspec": {
   "display_name": "Python 3",
   "language": "python",
   "name": "python3"
  },
  "language_info": {
   "codemirror_mode": {
    "name": "ipython",
    "version": 3
   },
   "file_extension": ".py",
   "mimetype": "text/x-python",
   "name": "python",
   "nbconvert_exporter": "python",
   "pygments_lexer": "ipython3",
   "version": "3.7.1"
  }
 },
 "nbformat": 4,
 "nbformat_minor": 2
}
