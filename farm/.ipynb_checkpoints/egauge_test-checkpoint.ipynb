{
 "cells": [
  {
   "cell_type": "code",
   "execution_count": 1,
   "metadata": {},
   "outputs": [],
   "source": [
    "#basic_read_eGauge.py\n",
    "#reads energy data from eGauge\n",
    "#gfiske Nov 2015\n",
    "\n",
    "# import urllib\n",
    "import datetime\n",
    "from xml.etree import ElementTree as ET\n",
    "import requests\n",
    "from requests.auth import HTTPDigestAuth\n",
    "import numpy as np\n",
    "import time"
   ]
  },
  {
   "cell_type": "code",
   "execution_count": 2,
   "metadata": {},
   "outputs": [],
   "source": [
    "# Function to get data from egauge XML API: Real, Active and Voltage\n",
    "\n",
    "def url_get_data(request):\n",
    "    root = ET.fromstring(request.text)\n",
    "    print('root: ', root)\n",
    "    timestamp  = root.findtext(\"ts\")\n",
    "    P = []\n",
    "    S = []\n",
    "    V = []\n",
    "    for r in root.findall('r'):\n",
    "        for child in r:\n",
    "            if r.get('t') == 'P':\n",
    "                P.append(int(child.text))\n",
    "            elif r.get('t') == 'S':\n",
    "                S.append(int(child.text))\n",
    "            elif r.get('t') == 'V':\n",
    "                V.append(int(child.text))\n",
    "    ts  = int(root.findtext(\"ts\"))\n",
    "    return np.asarray(P),np.asarray(S), np.asarray(V), ts    "
   ]
  },
  {
   "cell_type": "code",
   "execution_count": 3,
   "metadata": {},
   "outputs": [
    {
     "name": "stdout",
     "output_type": "stream",
     "text": [
      "root:  <Element 'data' at 0x106b789a8>\n",
      "[   6249637   66387806    7256979 -181152662] [396696472 651305254 265014774] [306917902198 227237305348   1177997973] 1558489798\n"
     ]
    },
    {
     "ename": "NameError",
     "evalue": "name 'url' is not defined",
     "output_type": "error",
     "traceback": [
      "\u001b[0;31m---------------------------------------------------------------------------\u001b[0m",
      "\u001b[0;31mNameError\u001b[0m                                 Traceback (most recent call last)",
      "\u001b[0;32m<ipython-input-3-c21cbbd8a350>\u001b[0m in \u001b[0;36m<module>\u001b[0;34m\u001b[0m\n\u001b[1;32m     18\u001b[0m \u001b[0;32mwhile\u001b[0m \u001b[0mt\u001b[0m \u001b[0;34m<\u001b[0m \u001b[0;36m5\u001b[0m\u001b[0;34m:\u001b[0m\u001b[0;34m\u001b[0m\u001b[0;34m\u001b[0m\u001b[0m\n\u001b[1;32m     19\u001b[0m     \u001b[0mtime\u001b[0m\u001b[0;34m.\u001b[0m\u001b[0msleep\u001b[0m\u001b[0;34m(\u001b[0m\u001b[0;36m10\u001b[0m\u001b[0;34m)\u001b[0m\u001b[0;34m\u001b[0m\u001b[0;34m\u001b[0m\u001b[0m\n\u001b[0;32m---> 20\u001b[0;31m     \u001b[0mresp\u001b[0m \u001b[0;34m=\u001b[0m \u001b[0mrequests\u001b[0m\u001b[0;34m.\u001b[0m\u001b[0mget\u001b[0m\u001b[0;34m(\u001b[0m\u001b[0murl\u001b[0m\u001b[0;34m,\u001b[0m \u001b[0mauth\u001b[0m\u001b[0;34m=\u001b[0m\u001b[0mHTTPDigestAuth\u001b[0m\u001b[0;34m(\u001b[0m\u001b[0muser\u001b[0m\u001b[0;34m,\u001b[0m \u001b[0mpassword\u001b[0m\u001b[0;34m)\u001b[0m\u001b[0;34m)\u001b[0m\u001b[0;34m\u001b[0m\u001b[0;34m\u001b[0m\u001b[0m\n\u001b[0m\u001b[1;32m     21\u001b[0m     \u001b[0mP\u001b[0m\u001b[0;34m,\u001b[0m \u001b[0mS\u001b[0m\u001b[0;34m,\u001b[0m \u001b[0mV\u001b[0m\u001b[0;34m,\u001b[0m \u001b[0mts\u001b[0m \u001b[0;34m=\u001b[0m \u001b[0murl_get_data\u001b[0m\u001b[0;34m(\u001b[0m\u001b[0mresp\u001b[0m\u001b[0;34m)\u001b[0m\u001b[0;34m\u001b[0m\u001b[0;34m\u001b[0m\u001b[0m\n\u001b[1;32m     22\u001b[0m     \u001b[0mts_delta\u001b[0m \u001b[0;34m=\u001b[0m \u001b[0mts\u001b[0m\u001b[0;34m-\u001b[0m\u001b[0mts_ini\u001b[0m\u001b[0;34m\u001b[0m\u001b[0;34m\u001b[0m\u001b[0m\n",
      "\u001b[0;31mNameError\u001b[0m: name 'url' is not defined"
     ]
    }
   ],
   "source": [
    "t=0\n",
    "house_id = 1\n",
    "data_list = []\n",
    "\n",
    "user230 = 'owner'\n",
    "password230 = 'SuXbc58vi9'\n",
    "url230 = 'https://egauge46613.egaug.es/cgi-bin/egauge?param'\n",
    "\n",
    "user480 = 'owner'\n",
    "password480 = 'szk87P57GW'\n",
    "url480 = 'https://egauge48709.egaug.es/cgi-bin/egauge?param'\n",
    "\n",
    "\n",
    "resp = requests.get(url480, auth=HTTPDigestAuth(user480, password480))\n",
    "P_ini, S_ini, V_ini, ts_ini = url_get_data(resp)\n",
    "print(P_ini, S_ini, V_ini, ts_ini)\n",
    "\n",
    "while t < 5:\n",
    "    time.sleep(10)\n",
    "    resp = requests.get(url, auth=HTTPDigestAuth(user, password))\n",
    "    P, S, V, ts = url_get_data(resp)\n",
    "    ts_delta = ts-ts_ini\n",
    "    P_out = (P-P_ini)/ts_delta\n",
    "    S_out = (S-S_ini)/ts_delta\n",
    "    V_out = (V-V_ini)/ts_delta\n",
    "    P_ini = P\n",
    "    S_ini = S\n",
    "    V_ini = V\n",
    "    ts_ini = ts\n",
    "    \n",
    "    # Timestamp:\n",
    "    ts_datetime = datetime.datetime.fromtimestamp(int(ts)).strftime('%Y-%m-%d %H:%M:%S')\n",
    "    data_list.clear()\n",
    "    data_dict = {'house_id':1}\n",
    "    data_dict['ts'] = ts_datetime\n",
    "    data_dict['V'] = [V_out[0]/1000, V_out[1]/1000]\n",
    "\n",
    "    for idx,val in enumerate(P_out):\n",
    "        print(data_list)\n",
    "        data_list.append({'CT'+str(idx+1):[P_out[idx],S_out[idx]]})\n",
    "    \n",
    "    data_dict['data'] = data_list\n",
    "    \n",
    "    t = t+1\n",
    "    print('V: ', V_out)\n",
    "#     print('P: ', P_out)\n",
    "#     print('S: ', S_out)\n",
    "#     print('ts: ', ts_out)\n",
    "    \n",
    "    print('Data Dict: ', data_dict)"
   ]
  },
  {
   "cell_type": "code",
   "execution_count": 3,
   "metadata": {},
   "outputs": [
    {
     "name": "stdout",
     "output_type": "stream",
     "text": [
      "root:  <Element 'html' at 0x10bcd0908>\n"
     ]
    },
    {
     "ename": "TypeError",
     "evalue": "int() argument must be a string, a bytes-like object or a number, not 'NoneType'",
     "output_type": "error",
     "traceback": [
      "\u001b[0;31m---------------------------------------------------------------------------\u001b[0m",
      "\u001b[0;31mTypeError\u001b[0m                                 Traceback (most recent call last)",
      "\u001b[0;32m<ipython-input-3-81282ed35b05>\u001b[0m in \u001b[0;36m<module>\u001b[0;34m\u001b[0m\n\u001b[1;32m      7\u001b[0m \u001b[0murl\u001b[0m \u001b[0;34m=\u001b[0m \u001b[0;34m'https://egauge46613.egaug.es/cgi-bin/egauge?param'\u001b[0m\u001b[0;34m\u001b[0m\u001b[0;34m\u001b[0m\u001b[0m\n\u001b[1;32m      8\u001b[0m \u001b[0mresp\u001b[0m \u001b[0;34m=\u001b[0m \u001b[0mrequests\u001b[0m\u001b[0;34m.\u001b[0m\u001b[0mget\u001b[0m\u001b[0;34m(\u001b[0m\u001b[0murl\u001b[0m\u001b[0;34m,\u001b[0m \u001b[0mauth\u001b[0m\u001b[0;34m=\u001b[0m\u001b[0mHTTPDigestAuth\u001b[0m\u001b[0;34m(\u001b[0m\u001b[0muser\u001b[0m\u001b[0;34m,\u001b[0m \u001b[0mpassword\u001b[0m\u001b[0;34m)\u001b[0m\u001b[0;34m)\u001b[0m\u001b[0;34m\u001b[0m\u001b[0;34m\u001b[0m\u001b[0m\n\u001b[0;32m----> 9\u001b[0;31m \u001b[0mP_ini\u001b[0m\u001b[0;34m,\u001b[0m \u001b[0mS_ini\u001b[0m\u001b[0;34m,\u001b[0m \u001b[0mV_ini\u001b[0m\u001b[0;34m,\u001b[0m \u001b[0mts_ini\u001b[0m \u001b[0;34m=\u001b[0m \u001b[0murl_get_data\u001b[0m\u001b[0;34m(\u001b[0m\u001b[0mresp\u001b[0m\u001b[0;34m)\u001b[0m\u001b[0;34m\u001b[0m\u001b[0;34m\u001b[0m\u001b[0m\n\u001b[0m\u001b[1;32m     10\u001b[0m \u001b[0mprint\u001b[0m\u001b[0;34m(\u001b[0m\u001b[0mP_ini\u001b[0m\u001b[0;34m,\u001b[0m \u001b[0mS_ini\u001b[0m\u001b[0;34m,\u001b[0m \u001b[0mV_ini\u001b[0m\u001b[0;34m,\u001b[0m \u001b[0mts_ini\u001b[0m\u001b[0;34m)\u001b[0m\u001b[0;34m\u001b[0m\u001b[0;34m\u001b[0m\u001b[0m\n",
      "\u001b[0;32m<ipython-input-2-842d13e58bf5>\u001b[0m in \u001b[0;36murl_get_data\u001b[0;34m(request)\u001b[0m\n\u001b[1;32m     16\u001b[0m             \u001b[0;32melif\u001b[0m \u001b[0mr\u001b[0m\u001b[0;34m.\u001b[0m\u001b[0mget\u001b[0m\u001b[0;34m(\u001b[0m\u001b[0;34m't'\u001b[0m\u001b[0;34m)\u001b[0m \u001b[0;34m==\u001b[0m \u001b[0;34m'V'\u001b[0m\u001b[0;34m:\u001b[0m\u001b[0;34m\u001b[0m\u001b[0;34m\u001b[0m\u001b[0m\n\u001b[1;32m     17\u001b[0m                 \u001b[0mV\u001b[0m\u001b[0;34m.\u001b[0m\u001b[0mappend\u001b[0m\u001b[0;34m(\u001b[0m\u001b[0mint\u001b[0m\u001b[0;34m(\u001b[0m\u001b[0mchild\u001b[0m\u001b[0;34m.\u001b[0m\u001b[0mtext\u001b[0m\u001b[0;34m)\u001b[0m\u001b[0;34m)\u001b[0m\u001b[0;34m\u001b[0m\u001b[0;34m\u001b[0m\u001b[0m\n\u001b[0;32m---> 18\u001b[0;31m     \u001b[0mts\u001b[0m  \u001b[0;34m=\u001b[0m \u001b[0mint\u001b[0m\u001b[0;34m(\u001b[0m\u001b[0mroot\u001b[0m\u001b[0;34m.\u001b[0m\u001b[0mfindtext\u001b[0m\u001b[0;34m(\u001b[0m\u001b[0;34m\"ts\"\u001b[0m\u001b[0;34m)\u001b[0m\u001b[0;34m)\u001b[0m\u001b[0;34m\u001b[0m\u001b[0;34m\u001b[0m\u001b[0m\n\u001b[0m\u001b[1;32m     19\u001b[0m     \u001b[0;32mreturn\u001b[0m \u001b[0mnp\u001b[0m\u001b[0;34m.\u001b[0m\u001b[0masarray\u001b[0m\u001b[0;34m(\u001b[0m\u001b[0mP\u001b[0m\u001b[0;34m)\u001b[0m\u001b[0;34m,\u001b[0m\u001b[0mnp\u001b[0m\u001b[0;34m.\u001b[0m\u001b[0masarray\u001b[0m\u001b[0;34m(\u001b[0m\u001b[0mS\u001b[0m\u001b[0;34m)\u001b[0m\u001b[0;34m,\u001b[0m \u001b[0mnp\u001b[0m\u001b[0;34m.\u001b[0m\u001b[0masarray\u001b[0m\u001b[0;34m(\u001b[0m\u001b[0mV\u001b[0m\u001b[0;34m)\u001b[0m\u001b[0;34m,\u001b[0m \u001b[0mts\u001b[0m\u001b[0;34m\u001b[0m\u001b[0;34m\u001b[0m\u001b[0m\n",
      "\u001b[0;31mTypeError\u001b[0m: int() argument must be a string, a bytes-like object or a number, not 'NoneType'"
     ]
    }
   ],
   "source": [
    "t=0\n",
    "house_id = 1\n",
    "data_list = []\n",
    "user = 'owner'\n",
    "password = 'SuXbc58vi9'\n",
    "\n",
    "url = 'https://egauge46613.egaug.es/cgi-bin/egauge?param'\n",
    "resp = requests.get(url, auth=HTTPDigestAuth(user, password))\n",
    "P_ini, S_ini, V_ini, ts_ini = url_get_data(resp)\n",
    "print(P_ini, S_ini, V_ini, ts_ini)\n"
   ]
  },
  {
   "cell_type": "code",
   "execution_count": null,
   "metadata": {},
   "outputs": [],
   "source": []
  }
 ],
 "metadata": {
  "kernelspec": {
   "display_name": "Python 3",
   "language": "python",
   "name": "python3"
  },
  "language_info": {
   "codemirror_mode": {
    "name": "ipython",
    "version": 3
   },
   "file_extension": ".py",
   "mimetype": "text/x-python",
   "name": "python",
   "nbconvert_exporter": "python",
   "pygments_lexer": "ipython3",
   "version": "3.7.1"
  }
 },
 "nbformat": 4,
 "nbformat_minor": 2
}
