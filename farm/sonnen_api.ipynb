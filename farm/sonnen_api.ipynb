{
 "cells": [
  {
   "cell_type": "code",
   "execution_count": 7,
   "metadata": {},
   "outputs": [],
   "source": [
    "import datetime\n",
    "from xml.etree import ElementTree as ET\n",
    "import requests\n",
    "from requests.auth import HTTPDigestAuth\n",
    "import numpy as np\n",
    "import time\n",
    "import json"
   ]
  },
  {
   "cell_type": "code",
   "execution_count": 12,
   "metadata": {},
   "outputs": [],
   "source": [
    "# When power is negative it means it's consuming from the grid. Positive is backfeeding\n",
    "class SonnenInterface():\n",
    "\n",
    "    def __init__ (self, serial = None, auth_token = None):\n",
    "        self.serial = serial\n",
    "        self.token = auth_token\n",
    "        self.url_ini = 'https://core-api.sonnenbatterie.de/proxy/'\n",
    "        self.headers = { 'Accept': 'application/vnd.sonnenbatterie.api.core.v1+json',\n",
    "    'Authorization': 'Bearer '+self.token,}\n",
    "        \n",
    "    \n",
    "    def get_status(self):\n",
    "        status_endpoint = '/api/v1/status'\n",
    "        try:\n",
    "            resp = requests.get(self.url_ini + self.serial + status_endpoint, headers=self.headers)\n",
    "\n",
    "        except:\n",
    "            print(exc)\n",
    "            \n",
    "        return resp.json()\n",
    "    \n",
    "    \n",
    "# Backup:\n",
    "# Intended to maintain an energy reserve for situations where the Grid is no longer available. During the off-grid \n",
    "# period the energy would be dispensed to supply the demand of power from all the essential loads. \n",
    "# Load management can be enabled to further extend the life of the batteries by the Developers.\n",
    "\n",
    "    def enable_backup_mode(self):\n",
    "        backup_endpoint = '/api/setting?EM_OperatingMode=7'\n",
    "        try:\n",
    "            resp = requests.get(self.url_ini + self.serial + backup_endpoint, headers=self.headers)\n",
    "        \n",
    "        except:\n",
    "            print(exc)\n",
    "            \n",
    "        return resp.json()\n",
    "\n",
    "\n",
    "# Self-Consumption:\n",
    "# The ecoLinx monitors all energy sources (Grid, PV, Generator), loads, and Energy Reserve Percentage \n",
    "# in order to minimize purchase of energy from the Grid.\n",
    "\n",
    "    def enable_self_consumption(self):\n",
    "        sc_endpoint = '/api/setting?EM_OperatingMode=8'\n",
    "        try:\n",
    "            resp = requests.get(self.url_ini + self.serial + sc_endpoint, headers=self.headers)\n",
    "            \n",
    "        except:\n",
    "            print(exc)\n",
    "        \n",
    "        return resp.json()\n",
    "        \n",
    "\n",
    "# Manual Mode\n",
    "# This mode allows the user to manually charge or discharge the batteries. The user needs to provide the \n",
    "# value for charging or discharging and based on the value, the ecoLinx system will charge until it reaches \n",
    "# 100% or discharge until it reaches 0% User SOC (unless stopped by the user by changing the charge/discharge \n",
    "# value to 0).\n",
    "\n",
    "    # Enabled by default\n",
    "    def enable_manual_mode(self):\n",
    "        manual_endpoint = '/api/setting?EM_OperatingMode=1'\n",
    "        try:\n",
    "            resp = requests.get(self.url_ini + self.serial + manual_endpoint, headers=self.headers)\n",
    "            \n",
    "        except:\n",
    "            print(exc)\n",
    "        \n",
    "        return resp.json()\n",
    "    \n",
    "    \n",
    "    def manual_mode_control(self, mode = 'charge', value = '0'):\n",
    "        control_endpoint = '/api/v1/setpoint/'\n",
    "        try:\n",
    "            resp = requests.get(self.url_ini + self.serial + control_endpoint+mode+'/'+value, headers=self.headers)\n",
    "            \n",
    "        except:\n",
    "            print(exc)\n",
    "        \n",
    "        return resp.json()\n",
    "        \n",
    "        "
   ]
  },
  {
   "cell_type": "code",
   "execution_count": 19,
   "metadata": {},
   "outputs": [
    {
     "data": {
      "text/plain": [
       "{'Consumption_W': 0,\n",
       " 'Fac': 60,\n",
       " 'GridFeedIn_W': 0,\n",
       " 'IsSystemInstalled': 1,\n",
       " 'Production_W': 854,\n",
       " 'RSOC': 91,\n",
       " 'Timestamp': '2019-05-23 14:21:41',\n",
       " 'USOC': 91,\n",
       " 'Uac': 242,\n",
       " 'Ubat': 53}"
      ]
     },
     "execution_count": 19,
     "metadata": {},
     "output_type": "execute_result"
    }
   ],
   "source": [
    "# Testing: define a serial and token\n",
    "\n",
    "# token = \n",
    "# serial = \n",
    "SonnenInterface(serial = serial, auth_token = token).get_status()"
   ]
  },
  {
   "cell_type": "code",
   "execution_count": 18,
   "metadata": {},
   "outputs": [
    {
     "data": {
      "text/plain": [
       "{'ReturnCode': '0'}"
      ]
     },
     "execution_count": 18,
     "metadata": {},
     "output_type": "execute_result"
    }
   ],
   "source": [
    "mode = 'discharge'\n",
    "value = '500'\n",
    "SonnenInterface(serial = '67682', auth_token = token).manual_mode_control(mode, value)"
   ]
  },
  {
   "cell_type": "code",
   "execution_count": null,
   "metadata": {},
   "outputs": [],
   "source": []
  }
 ],
 "metadata": {
  "kernelspec": {
   "display_name": "Python 3",
   "language": "python",
   "name": "python3"
  },
  "language_info": {
   "codemirror_mode": {
    "name": "ipython",
    "version": 3
   },
   "file_extension": ".py",
   "mimetype": "text/x-python",
   "name": "python",
   "nbconvert_exporter": "python",
   "pygments_lexer": "ipython3",
   "version": "3.7.1"
  }
 },
 "nbformat": 4,
 "nbformat_minor": 2
}
